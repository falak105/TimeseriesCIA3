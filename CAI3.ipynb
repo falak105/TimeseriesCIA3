{
  "cells": [
    {
      "cell_type": "markdown",
      "metadata": {
        "id": "hDF_gPf-duFG"
      },
      "source": [
        "# **CIA** Time Series <br>\n",
        "\n",
        "---\n",
        "\n",
        "\n",
        "#**Group Members**<br>\n",
        "\n",
        ">Aleena Mariya Sebastian(23122104)<br>\n",
        "\n",
        "> Falak Ansari(23122106)\n",
        "\n",
        "\n",
        "\n"
      ]
    },
    {
      "cell_type": "code",
      "execution_count": 5,
      "metadata": {
        "id": "HKsENuGGaMqy"
      },
      "outputs": [],
      "source": [
        "import pandas as pd\n",
        "import numpy as np\n",
        "import statsmodels.api as sm\n",
        "import matplotlib.pyplot as plt\n",
        "import matplotlib.dates as mdates # For plotting graphs\n",
        "import datetime as dt\n",
        "from datetime import datetime    # To access datetime\n",
        "from pandas import Series        # To work on series\n",
        "import seaborn as sns"
      ]
    },
    {
      "cell_type": "code",
      "execution_count": 6,
      "metadata": {
        "colab": {
          "base_uri": "https://localhost:8080/"
        },
        "id": "7oke_-GXevRo",
        "outputId": "2fe1f71f-c9e7-4a23-96ed-c0c575833a3b"
      },
      "outputs": [
        {
          "name": "stdout",
          "output_type": "stream",
          "text": [
            "            Date      Symbol Series  Prev Close      Open      High       Low  \\\n",
            "0     2008-05-26  BAJAJFINSV     EQ     2101.05    600.00    619.00    501.00   \n",
            "1     2008-05-27  BAJAJFINSV     EQ      509.10    505.00    610.95    491.10   \n",
            "2     2008-05-28  BAJAJFINSV     EQ      554.65    564.00    665.60    564.00   \n",
            "3     2008-05-29  BAJAJFINSV     EQ      640.95    656.65    703.00    608.00   \n",
            "4     2008-05-30  BAJAJFINSV     EQ      632.40    642.40    668.00    588.30   \n",
            "...          ...         ...    ...         ...       ...       ...       ...   \n",
            "3196  2021-04-26  BAJAJFINSV     EQ     9916.65   9992.00  10125.00   9902.20   \n",
            "3197  2021-04-27  BAJAJFINSV     EQ    10001.75  10000.00  10133.00   9964.70   \n",
            "3198  2021-04-28  BAJAJFINSV     EQ    10091.35  10200.00  10615.95  10151.15   \n",
            "3199  2021-04-29  BAJAJFINSV     EQ    10489.30  10540.00  11300.00  10520.00   \n",
            "3200  2021-04-30  BAJAJFINSV     EQ    11176.55  11000.00  11225.00  10868.70   \n",
            "\n",
            "          Last     Close      VWAP   Volume      Turnover    Trades  \\\n",
            "0       505.10    509.10    548.85  3145446  1.726368e+14       NaN   \n",
            "1       564.00    554.65    572.15  4349144  2.488370e+14       NaN   \n",
            "2       643.00    640.95    618.37  4588759  2.837530e+14       NaN   \n",
            "3       634.50    632.40    659.60  4522302  2.982921e+14       NaN   \n",
            "4       647.00    644.00    636.41  3057669  1.945929e+14       NaN   \n",
            "...        ...       ...       ...      ...           ...       ...   \n",
            "3196  10000.85  10001.75   9995.72   419596  4.194163e+14   45113.0   \n",
            "3197  10133.00  10091.35  10036.76   342847  3.441072e+14   40414.0   \n",
            "3198  10480.00  10489.30  10445.96  1113881  1.163556e+15  126354.0   \n",
            "3199  11175.45  11176.55  10980.40  1696498  1.862822e+15  165425.0   \n",
            "3200  11021.00  11041.65  11081.78   835355  9.257223e+14   85986.0   \n",
            "\n",
            "      Deliverable Volume  %Deliverble  \n",
            "0                 908264       0.2888  \n",
            "1                 677627       0.1558  \n",
            "2                 774895       0.1689  \n",
            "3                1006161       0.2225  \n",
            "4                 462832       0.1514  \n",
            "...                  ...          ...  \n",
            "3196               77816       0.1855  \n",
            "3197               77723       0.2267  \n",
            "3198              133587       0.1199  \n",
            "3199              195324       0.1151  \n",
            "3200              129995       0.1556  \n",
            "\n",
            "[3201 rows x 15 columns]\n"
          ]
        }
      ],
      "source": [
        "df=pd.read_csv(\"BAJAJFINSV.csv\")\n",
        "print(df)"
      ]
    },
    {
      "cell_type": "code",
      "execution_count": 7,
      "metadata": {
        "colab": {
          "base_uri": "https://localhost:8080/",
          "height": 310
        },
        "id": "sBAcTY8VjnMh",
        "outputId": "f1b78438-250a-4e80-f476-63787a81b584"
      },
      "outputs": [
        {
          "data": {
            "text/html": [
              "<div>\n",
              "<style scoped>\n",
              "    .dataframe tbody tr th:only-of-type {\n",
              "        vertical-align: middle;\n",
              "    }\n",
              "\n",
              "    .dataframe tbody tr th {\n",
              "        vertical-align: top;\n",
              "    }\n",
              "\n",
              "    .dataframe thead th {\n",
              "        text-align: right;\n",
              "    }\n",
              "</style>\n",
              "<table border=\"1\" class=\"dataframe\">\n",
              "  <thead>\n",
              "    <tr style=\"text-align: right;\">\n",
              "      <th></th>\n",
              "      <th>Date</th>\n",
              "      <th>Symbol</th>\n",
              "      <th>Series</th>\n",
              "      <th>Prev Close</th>\n",
              "      <th>Open</th>\n",
              "      <th>High</th>\n",
              "      <th>Low</th>\n",
              "      <th>Last</th>\n",
              "      <th>Close</th>\n",
              "      <th>VWAP</th>\n",
              "      <th>Volume</th>\n",
              "      <th>Turnover</th>\n",
              "      <th>Trades</th>\n",
              "      <th>Deliverable Volume</th>\n",
              "      <th>%Deliverble</th>\n",
              "    </tr>\n",
              "  </thead>\n",
              "  <tbody>\n",
              "    <tr>\n",
              "      <th>0</th>\n",
              "      <td>2008-05-26</td>\n",
              "      <td>BAJAJFINSV</td>\n",
              "      <td>EQ</td>\n",
              "      <td>2101.05</td>\n",
              "      <td>600.00</td>\n",
              "      <td>619.00</td>\n",
              "      <td>501.0</td>\n",
              "      <td>505.1</td>\n",
              "      <td>509.10</td>\n",
              "      <td>548.85</td>\n",
              "      <td>3145446</td>\n",
              "      <td>1.726368e+14</td>\n",
              "      <td>NaN</td>\n",
              "      <td>908264</td>\n",
              "      <td>0.2888</td>\n",
              "    </tr>\n",
              "    <tr>\n",
              "      <th>1</th>\n",
              "      <td>2008-05-27</td>\n",
              "      <td>BAJAJFINSV</td>\n",
              "      <td>EQ</td>\n",
              "      <td>509.10</td>\n",
              "      <td>505.00</td>\n",
              "      <td>610.95</td>\n",
              "      <td>491.1</td>\n",
              "      <td>564.0</td>\n",
              "      <td>554.65</td>\n",
              "      <td>572.15</td>\n",
              "      <td>4349144</td>\n",
              "      <td>2.488370e+14</td>\n",
              "      <td>NaN</td>\n",
              "      <td>677627</td>\n",
              "      <td>0.1558</td>\n",
              "    </tr>\n",
              "    <tr>\n",
              "      <th>2</th>\n",
              "      <td>2008-05-28</td>\n",
              "      <td>BAJAJFINSV</td>\n",
              "      <td>EQ</td>\n",
              "      <td>554.65</td>\n",
              "      <td>564.00</td>\n",
              "      <td>665.60</td>\n",
              "      <td>564.0</td>\n",
              "      <td>643.0</td>\n",
              "      <td>640.95</td>\n",
              "      <td>618.37</td>\n",
              "      <td>4588759</td>\n",
              "      <td>2.837530e+14</td>\n",
              "      <td>NaN</td>\n",
              "      <td>774895</td>\n",
              "      <td>0.1689</td>\n",
              "    </tr>\n",
              "    <tr>\n",
              "      <th>3</th>\n",
              "      <td>2008-05-29</td>\n",
              "      <td>BAJAJFINSV</td>\n",
              "      <td>EQ</td>\n",
              "      <td>640.95</td>\n",
              "      <td>656.65</td>\n",
              "      <td>703.00</td>\n",
              "      <td>608.0</td>\n",
              "      <td>634.5</td>\n",
              "      <td>632.40</td>\n",
              "      <td>659.60</td>\n",
              "      <td>4522302</td>\n",
              "      <td>2.982921e+14</td>\n",
              "      <td>NaN</td>\n",
              "      <td>1006161</td>\n",
              "      <td>0.2225</td>\n",
              "    </tr>\n",
              "    <tr>\n",
              "      <th>4</th>\n",
              "      <td>2008-05-30</td>\n",
              "      <td>BAJAJFINSV</td>\n",
              "      <td>EQ</td>\n",
              "      <td>632.40</td>\n",
              "      <td>642.40</td>\n",
              "      <td>668.00</td>\n",
              "      <td>588.3</td>\n",
              "      <td>647.0</td>\n",
              "      <td>644.00</td>\n",
              "      <td>636.41</td>\n",
              "      <td>3057669</td>\n",
              "      <td>1.945929e+14</td>\n",
              "      <td>NaN</td>\n",
              "      <td>462832</td>\n",
              "      <td>0.1514</td>\n",
              "    </tr>\n",
              "  </tbody>\n",
              "</table>\n",
              "</div>"
            ],
            "text/plain": [
              "         Date      Symbol Series  Prev Close    Open    High    Low   Last  \\\n",
              "0  2008-05-26  BAJAJFINSV     EQ     2101.05  600.00  619.00  501.0  505.1   \n",
              "1  2008-05-27  BAJAJFINSV     EQ      509.10  505.00  610.95  491.1  564.0   \n",
              "2  2008-05-28  BAJAJFINSV     EQ      554.65  564.00  665.60  564.0  643.0   \n",
              "3  2008-05-29  BAJAJFINSV     EQ      640.95  656.65  703.00  608.0  634.5   \n",
              "4  2008-05-30  BAJAJFINSV     EQ      632.40  642.40  668.00  588.3  647.0   \n",
              "\n",
              "    Close    VWAP   Volume      Turnover  Trades  Deliverable Volume  \\\n",
              "0  509.10  548.85  3145446  1.726368e+14     NaN              908264   \n",
              "1  554.65  572.15  4349144  2.488370e+14     NaN              677627   \n",
              "2  640.95  618.37  4588759  2.837530e+14     NaN              774895   \n",
              "3  632.40  659.60  4522302  2.982921e+14     NaN             1006161   \n",
              "4  644.00  636.41  3057669  1.945929e+14     NaN              462832   \n",
              "\n",
              "   %Deliverble  \n",
              "0       0.2888  \n",
              "1       0.1558  \n",
              "2       0.1689  \n",
              "3       0.2225  \n",
              "4       0.1514  "
            ]
          },
          "execution_count": 7,
          "metadata": {},
          "output_type": "execute_result"
        }
      ],
      "source": [
        "df.head()"
      ]
    },
    {
      "cell_type": "code",
      "execution_count": 8,
      "metadata": {
        "colab": {
          "base_uri": "https://localhost:8080/",
          "height": 562
        },
        "id": "90X9Jy4piODN",
        "outputId": "c8027faa-5bdd-4d9a-ec61-8752024497f5"
      },
      "outputs": [
        {
          "data": {
            "text/plain": [
              "Text(0, 0.5, 'VWAP')"
            ]
          },
          "execution_count": 8,
          "metadata": {},
          "output_type": "execute_result"
        },
        {
          "data": {
            "image/png": "[encoded data removed]",
            "text/plain": [
              "<Figure size 1000x600 with 1 Axes>"
            ]
          },
          "metadata": {},
          "output_type": "display_data"
        }
      ],
      "source": [
        "df['VWAP'].plot(figsize=(10,6),title='BAJAJ Stock Price')\n",
        "plt.ylabel('VWAP')"
      ]
    }
  ],
  "metadata": {
    "colab": {
      "provenance": []
    },
    "kernelspec": {
      "display_name": "base",
      "language": "python",
      "name": "python3"
    },
    "language_info": {
      "codemirror_mode": {
        "name": "ipython",
        "version": 3
      },
      "file_extension": ".py",
      "mimetype": "text/x-python",
      "name": "python",
      "nbconvert_exporter": "python",
      "pygments_lexer": "ipython3",
      "version": "3.11.5"
    }
  },
  "nbformat": 4,
  "nbformat_minor": 0
}
